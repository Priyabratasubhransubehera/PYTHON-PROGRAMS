{
 "cells": [
  {
   "cell_type": "code",
   "execution_count": 2,
   "id": "b500e8e6-9379-4ea5-a51c-122ee8c2d5f8",
   "metadata": {},
   "outputs": [
    {
     "name": "stdout",
     "output_type": "stream",
     "text": [
      "addition= 4 <class 'int'>\n",
      "subtraction= -2 <class 'int'>\n",
      "multiplication= 3 <class 'int'>\n",
      "division= 0.3333333333333333 <class 'float'>\n",
      "modulus= 1 <class 'int'>\n"
     ]
    }
   ],
   "source": [
    "#addition,subtraction,multiplication,division,modulus,and types of these :\n",
    "a=1\n",
    "b=3\n",
    "addition=a+b\n",
    "subtraction=a-b\n",
    "multiplication=a*b\n",
    "division=a/b\n",
    "modulus=a%b\n",
    "print(\"addition=\",addition,type(addition))\n",
    "print(\"subtraction=\",subtraction,type(subtraction))\n",
    "print(\"multiplication=\",multiplication,type(multiplication))\n",
    "print(\"division=\",division,type(division))\n",
    "print(\"modulus=\",modulus,type(modulus))"
   ]
  },
  {
   "cell_type": "code",
   "execution_count": 6,
   "id": "7ac8ee4a-355e-41ce-9144-14571de0f2b6",
   "metadata": {},
   "outputs": [
    {
     "name": "stdout",
     "output_type": "stream",
     "text": [
      "['False', 'None', 'True', 'and', 'as', 'assert', 'async', 'await', 'break', 'class', 'continue', 'def', 'del', 'elif', 'else', 'except', 'finally', 'for', 'from', 'global', 'if', 'import', 'in', 'is', 'lambda', 'nonlocal', 'not', 'or', 'pass', 'raise', 'return', 'try', 'while', 'with', 'yield']\n",
      "35\n"
     ]
    }
   ],
   "source": [
    "#print 35 keywords of python :\n",
    "import keyword as kw\n",
    "print(kw.kwlist)\n",
    "b=(kw.kwlist)\n",
    "print(len(b))"
   ]
  },
  {
   "cell_type": "code",
   "execution_count": 9,
   "id": "eca7494a-cee4-4d97-bf4c-d4ed44dac332",
   "metadata": {},
   "outputs": [
    {
     "name": "stdout",
     "output_type": "stream",
     "text": [
      "                                  2025\n",
      "\n",
      "      January                   February                   March\n",
      "Mo Tu We Th Fr Sa Su      Mo Tu We Th Fr Sa Su      Mo Tu We Th Fr Sa Su\n",
      "       1  2  3  4  5                      1  2                      1  2\n",
      " 6  7  8  9 10 11 12       3  4  5  6  7  8  9       3  4  5  6  7  8  9\n",
      "13 14 15 16 17 18 19      10 11 12 13 14 15 16      10 11 12 13 14 15 16\n",
      "20 21 22 23 24 25 26      17 18 19 20 21 22 23      17 18 19 20 21 22 23\n",
      "27 28 29 30 31            24 25 26 27 28            24 25 26 27 28 29 30\n",
      "                                                    31\n",
      "\n",
      "       April                      May                       June\n",
      "Mo Tu We Th Fr Sa Su      Mo Tu We Th Fr Sa Su      Mo Tu We Th Fr Sa Su\n",
      "    1  2  3  4  5  6                1  2  3  4                         1\n",
      " 7  8  9 10 11 12 13       5  6  7  8  9 10 11       2  3  4  5  6  7  8\n",
      "14 15 16 17 18 19 20      12 13 14 15 16 17 18       9 10 11 12 13 14 15\n",
      "21 22 23 24 25 26 27      19 20 21 22 23 24 25      16 17 18 19 20 21 22\n",
      "28 29 30                  26 27 28 29 30 31         23 24 25 26 27 28 29\n",
      "                                                    30\n",
      "\n",
      "        July                     August                  September\n",
      "Mo Tu We Th Fr Sa Su      Mo Tu We Th Fr Sa Su      Mo Tu We Th Fr Sa Su\n",
      "    1  2  3  4  5  6                   1  2  3       1  2  3  4  5  6  7\n",
      " 7  8  9 10 11 12 13       4  5  6  7  8  9 10       8  9 10 11 12 13 14\n",
      "14 15 16 17 18 19 20      11 12 13 14 15 16 17      15 16 17 18 19 20 21\n",
      "21 22 23 24 25 26 27      18 19 20 21 22 23 24      22 23 24 25 26 27 28\n",
      "28 29 30 31               25 26 27 28 29 30 31      29 30\n",
      "\n",
      "      October                   November                  December\n",
      "Mo Tu We Th Fr Sa Su      Mo Tu We Th Fr Sa Su      Mo Tu We Th Fr Sa Su\n",
      "       1  2  3  4  5                      1  2       1  2  3  4  5  6  7\n",
      " 6  7  8  9 10 11 12       3  4  5  6  7  8  9       8  9 10 11 12 13 14\n",
      "13 14 15 16 17 18 19      10 11 12 13 14 15 16      15 16 17 18 19 20 21\n",
      "20 21 22 23 24 25 26      17 18 19 20 21 22 23      22 23 24 25 26 27 28\n",
      "27 28 29 30 31            24 25 26 27 28 29 30      29 30 31\n",
      "\n"
     ]
    }
   ],
   "source": [
    "#print dir of python :\n",
    "import calendar as c\n",
    "print(c.calendar(2025))"
   ]
  },
  {
   "cell_type": "code",
   "execution_count": 10,
   "id": "08e20b9f-1721-451d-b823-d367afbed939",
   "metadata": {},
   "outputs": [
    {
     "data": {
      "text/plain": [
       "['Calendar',\n",
       " 'EPOCH',\n",
       " 'FRIDAY',\n",
       " 'February',\n",
       " 'HTMLCalendar',\n",
       " 'IllegalMonthError',\n",
       " 'IllegalWeekdayError',\n",
       " 'January',\n",
       " 'LocaleHTMLCalendar',\n",
       " 'LocaleTextCalendar',\n",
       " 'MONDAY',\n",
       " 'SATURDAY',\n",
       " 'SUNDAY',\n",
       " 'THURSDAY',\n",
       " 'TUESDAY',\n",
       " 'TextCalendar',\n",
       " 'WEDNESDAY',\n",
       " '_EPOCH_ORD',\n",
       " '__all__',\n",
       " '__builtins__',\n",
       " '__cached__',\n",
       " '__doc__',\n",
       " '__file__',\n",
       " '__loader__',\n",
       " '__name__',\n",
       " '__package__',\n",
       " '__spec__',\n",
       " '_colwidth',\n",
       " '_get_default_locale',\n",
       " '_locale',\n",
       " '_localized_day',\n",
       " '_localized_month',\n",
       " '_monthlen',\n",
       " '_nextmonth',\n",
       " '_prevmonth',\n",
       " '_spacing',\n",
       " 'c',\n",
       " 'calendar',\n",
       " 'datetime',\n",
       " 'day_abbr',\n",
       " 'day_name',\n",
       " 'different_locale',\n",
       " 'error',\n",
       " 'firstweekday',\n",
       " 'format',\n",
       " 'formatstring',\n",
       " 'isleap',\n",
       " 'leapdays',\n",
       " 'main',\n",
       " 'mdays',\n",
       " 'month',\n",
       " 'month_abbr',\n",
       " 'month_name',\n",
       " 'monthcalendar',\n",
       " 'monthrange',\n",
       " 'prcal',\n",
       " 'prmonth',\n",
       " 'prweek',\n",
       " 'repeat',\n",
       " 'setfirstweekday',\n",
       " 'sys',\n",
       " 'timegm',\n",
       " 'week',\n",
       " 'weekday',\n",
       " 'weekheader']"
      ]
     },
     "execution_count": 10,
     "metadata": {},
     "output_type": "execute_result"
    }
   ],
   "source": [
    "dir(c)"
   ]
  },
  {
   "cell_type": "code",
   "execution_count": 11,
   "id": "db7609d0-e9f1-4092-8a9a-89b33c8e6e30",
   "metadata": {},
   "outputs": [
    {
     "name": "stdout",
     "output_type": "stream",
     "text": [
      "0\n"
     ]
    }
   ],
   "source": [
    "#print posions of week days :\n",
    "import calendar as c\n",
    "print(c.MONDAY)"
   ]
  },
  {
   "cell_type": "code",
   "execution_count": 12,
   "id": "304557d3-86bf-47f6-8ccb-f4658b13d247",
   "metadata": {},
   "outputs": [
    {
     "name": "stdout",
     "output_type": "stream",
     "text": [
      "1\n"
     ]
    }
   ],
   "source": [
    "import calendar as c\n",
    "print(c.TUESDAY)"
   ]
  },
  {
   "cell_type": "code",
   "execution_count": 13,
   "id": "f623be5a-05fe-48e1-86be-296aac1821d0",
   "metadata": {},
   "outputs": [
    {
     "name": "stdout",
     "output_type": "stream",
     "text": [
      "2\n"
     ]
    }
   ],
   "source": [
    "import calendar as c\n",
    "print(c.WEDNESDAY)"
   ]
  },
  {
   "cell_type": "code",
   "execution_count": 14,
   "id": "e5074167-3304-4e89-9743-56303e729ad1",
   "metadata": {},
   "outputs": [
    {
     "name": "stdout",
     "output_type": "stream",
     "text": [
      "3\n"
     ]
    }
   ],
   "source": [
    "import calendar as c\n",
    "print(c.THURSDAY)"
   ]
  },
  {
   "cell_type": "code",
   "execution_count": 15,
   "id": "7f45bb85-f628-48b5-aaf4-51a0cdaab984",
   "metadata": {},
   "outputs": [
    {
     "name": "stdout",
     "output_type": "stream",
     "text": [
      "4\n"
     ]
    }
   ],
   "source": [
    "import calendar as c\n",
    "print(c.FRIDAY)"
   ]
  },
  {
   "cell_type": "code",
   "execution_count": 16,
   "id": "03d6b42c-a646-42fd-9759-0895a76931f0",
   "metadata": {},
   "outputs": [
    {
     "name": "stdout",
     "output_type": "stream",
     "text": [
      "5\n"
     ]
    }
   ],
   "source": [
    "import calendar as c\n",
    "print(c.SATURDAY)"
   ]
  },
  {
   "cell_type": "code",
   "execution_count": 17,
   "id": "f84f52ea-26ff-47b5-892b-63eace6a64ff",
   "metadata": {},
   "outputs": [
    {
     "name": "stdout",
     "output_type": "stream",
     "text": [
      "6\n"
     ]
    }
   ],
   "source": [
    "import calendar as c\n",
    "print(c.SUNDAY)"
   ]
  },
  {
   "cell_type": "code",
   "execution_count": 18,
   "id": "cc4eecd5-7e11-444c-9acf-649f36584127",
   "metadata": {},
   "outputs": [
    {
     "name": "stdin",
     "output_type": "stream",
     "text": [
      "Enter fast number 5\n",
      "Enter the second number 5\n"
     ]
    },
    {
     "name": "stdout",
     "output_type": "stream",
     "text": [
      "10\n"
     ]
    }
   ],
   "source": [
    "#print additions of inputs numbers :\n",
    "a=int(input(\"Enter fast number\"))\n",
    "b=int(input(\"Enter the second number\"))\n",
    "print(a+b)"
   ]
  },
  {
   "cell_type": "code",
   "execution_count": 23,
   "id": "00b0e62b-78ca-4f92-89f0-c4232e2a6673",
   "metadata": {},
   "outputs": [
    {
     "name": "stdin",
     "output_type": "stream",
     "text": [
      "Enter fast number 6\n",
      "Enter the second number 8\n"
     ]
    },
    {
     "name": "stdout",
     "output_type": "stream",
     "text": [
      "addition= 14 <class 'int'>\n",
      "subtraction= -2 <class 'int'>\n",
      "multiplication= 48 <class 'int'>\n",
      "division= 0.75 <class 'float'>\n",
      "modulus= 6 <class 'int'>\n"
     ]
    }
   ],
   "source": [
    "#give input numbers and add to additio,subtraction,multiplication,division,modulus and give its type :\n",
    "a=int(input(\"Enter fast number\"))\n",
    "b=int(input(\"Enter the second number\"))\n",
    "addition=a+b\n",
    "subtraction=a-b\n",
    "multiplication=a*b\n",
    "division=a/b\n",
    "modulus=a%b\n",
    "print(\"addition=\",addition,type(addition))\n",
    "print(\"subtraction=\",subtraction,type(subtraction))\n",
    "print(\"multiplication=\",multiplication,type(multiplication))\n",
    "print(\"division=\",division,type(division))\n",
    "print(\"modulus=\",modulus,type(modulus))"
   ]
  }
 ],
 "metadata": {
  "kernelspec": {
   "display_name": "Python 3 (ipykernel)",
   "language": "python",
   "name": "python3"
  },
  "language_info": {
   "codemirror_mode": {
    "name": "ipython",
    "version": 3
   },
   "file_extension": ".py",
   "mimetype": "text/x-python",
   "name": "python",
   "nbconvert_exporter": "python",
   "pygments_lexer": "ipython3",
   "version": "3.11.7"
  }
 },
 "nbformat": 4,
 "nbformat_minor": 5
}
